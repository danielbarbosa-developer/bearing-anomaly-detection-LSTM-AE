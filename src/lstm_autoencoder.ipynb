{
 "cells": [
  {
   "cell_type": "code",
   "execution_count": 1,
   "metadata": {},
   "outputs": [],
   "source": [
    "import os\n",
    "from sklearn.preprocessing import MinMaxScaler\n",
    "import pandas as pd\n",
    "import numpy as np\n",
    "import tensorflow as tf\n",
    "from keras.layers import Input, LSTM, RepeatVector, TimeDistributed, Dense, BatchNormalization, Lambda\n",
    "from keras.models import Model\n",
    "import matplotlib.pyplot as plt"
   ]
  },
  {
   "cell_type": "code",
   "execution_count": 2,
   "metadata": {},
   "outputs": [],
   "source": [
    "#Creating data for B1\n",
    "\n",
    "data_dir = \"../data/pre_processed_data/experence2/bearing_1_data.csv\"\n",
    "\n",
    "b1_data = pd.read_csv(data_dir)\n",
    "\n",
    "b1_data.set_index('Filename', inplace=True)\n",
    "\n",
    "b1_data = b1_data.reset_index(drop=True).iloc[:, 1:]\n",
    "\n",
    "b1_data = b1_data.drop([\"Main Frequency\", \"Total Energy\", \"Peak\"], axis=1)\n",
    "  \n",
    "b1_data_train = b1_data.head(689)"
   ]
  },
  {
   "cell_type": "code",
   "execution_count": 3,
   "metadata": {},
   "outputs": [],
   "source": [
    "#Creating data for B2 => Training Data\n",
    "\n",
    "data_dir = \"../data/pre_processed_data/experence2/bearing_2_data.csv\"\n",
    "\n",
    "b2_data = pd.read_csv(data_dir)\n",
    "\n",
    "b2_data.set_index('Filename', inplace=True)\n",
    "\n",
    "b2_data = b2_data.reset_index(drop=True).iloc[:, 1:]\n",
    "\n",
    "b2_data = b2_data.drop([\"Main Frequency\", \"Total Energy\", \"Peak\"], axis=1)\n",
    "\n",
    "b2_data_train = b2_data.head(689)"
   ]
  },
  {
   "cell_type": "code",
   "execution_count": 4,
   "metadata": {},
   "outputs": [],
   "source": [
    "#Creating data for B4 => Validation Data\n",
    "\n",
    "data_dir = \"../data/pre_processed_data/experence2/bearing_4_data.csv\"\n",
    "\n",
    "b4_data = pd.read_csv(data_dir)\n",
    "\n",
    "b4_data.set_index('Filename', inplace=True)\n",
    "\n",
    "b4_data = b4_data.reset_index(drop=True).iloc[:, 1:]\n",
    "\n",
    "b4_data = b4_data.drop([\"Main Frequency\", \"Total Energy\", \"Peak\"], axis=1)\n",
    "\n",
    "b4_data_train = b4_data.head(689)"
   ]
  },
  {
   "cell_type": "code",
   "execution_count": 5,
   "metadata": {},
   "outputs": [],
   "source": [
    "# Reshaping Data to use it in LSTM Autoencoder\n",
    "\n",
    "input_dim = b1_data_train.shape[1]\n",
    "seq_length = 1\n",
    "\n",
    "data = b1_data_train.values.reshape(-1, seq_length, input_dim)\n",
    "data_test_b2 = b2_data_train.values.reshape(-1, seq_length, input_dim)\n",
    "data_test_b4 = b4_data_train.values.reshape(-1, seq_length, input_dim)"
   ]
  },
  {
   "cell_type": "code",
   "execution_count": 6,
   "metadata": {},
   "outputs": [
    {
     "name": "stdout",
     "output_type": "stream",
     "text": [
      "Epoch 1/40\n",
      "69/69 [==============================] - 10s 26ms/step - loss: 3.6097 - val_loss: 4.2161\n",
      "Epoch 2/40\n",
      "69/69 [==============================] - 1s 12ms/step - loss: 3.2572 - val_loss: 3.6399\n",
      "Epoch 3/40\n",
      "69/69 [==============================] - 1s 15ms/step - loss: 2.3587 - val_loss: 2.1640\n",
      "Epoch 4/40\n",
      "69/69 [==============================] - 1s 11ms/step - loss: 0.8623 - val_loss: 0.4692\n",
      "Epoch 5/40\n",
      "69/69 [==============================] - 1s 10ms/step - loss: 0.0707 - val_loss: 0.0644\n",
      "Epoch 6/40\n",
      "69/69 [==============================] - 1s 12ms/step - loss: 0.0035 - val_loss: 0.0478\n",
      "Epoch 7/40\n",
      "69/69 [==============================] - 1s 15ms/step - loss: 0.0032 - val_loss: 0.0480\n",
      "Epoch 8/40\n",
      "69/69 [==============================] - 1s 15ms/step - loss: 0.0031 - val_loss: 0.0474\n",
      "Epoch 9/40\n",
      "69/69 [==============================] - 1s 9ms/step - loss: 0.0032 - val_loss: 0.0482\n",
      "Epoch 10/40\n",
      "69/69 [==============================] - 1s 10ms/step - loss: 0.0031 - val_loss: 0.0476\n",
      "Epoch 11/40\n",
      "69/69 [==============================] - 1s 12ms/step - loss: 0.0032 - val_loss: 0.0467\n",
      "Epoch 12/40\n",
      "69/69 [==============================] - 1s 12ms/step - loss: 0.0031 - val_loss: 0.0479\n",
      "Epoch 13/40\n",
      "69/69 [==============================] - 1s 12ms/step - loss: 0.0032 - val_loss: 0.0475\n",
      "Epoch 14/40\n",
      "69/69 [==============================] - 1s 15ms/step - loss: 0.0032 - val_loss: 0.0469\n",
      "Epoch 15/40\n",
      "69/69 [==============================] - 1s 15ms/step - loss: 0.0031 - val_loss: 0.0470\n",
      "Epoch 16/40\n",
      "69/69 [==============================] - 1s 15ms/step - loss: 0.0032 - val_loss: 0.0475\n",
      "Epoch 17/40\n",
      "69/69 [==============================] - 1s 12ms/step - loss: 0.0032 - val_loss: 0.0463\n",
      "Epoch 18/40\n",
      "69/69 [==============================] - 1s 11ms/step - loss: 0.0032 - val_loss: 0.0477\n",
      "Epoch 19/40\n",
      "69/69 [==============================] - 1s 11ms/step - loss: 0.0032 - val_loss: 0.0479\n",
      "Epoch 20/40\n",
      "69/69 [==============================] - 1s 15ms/step - loss: 0.0032 - val_loss: 0.0483\n",
      "Epoch 21/40\n",
      "69/69 [==============================] - 1s 14ms/step - loss: 0.0032 - val_loss: 0.0477\n",
      "Epoch 22/40\n",
      "69/69 [==============================] - 1s 12ms/step - loss: 0.0032 - val_loss: 0.0474\n",
      "Epoch 23/40\n",
      "69/69 [==============================] - 1s 14ms/step - loss: 0.0032 - val_loss: 0.0477\n",
      "Epoch 24/40\n",
      "69/69 [==============================] - 1s 14ms/step - loss: 0.0032 - val_loss: 0.0478\n",
      "Epoch 25/40\n",
      "69/69 [==============================] - 1s 14ms/step - loss: 0.0032 - val_loss: 0.0473\n",
      "Epoch 26/40\n",
      "69/69 [==============================] - 1s 11ms/step - loss: 0.0032 - val_loss: 0.0469\n",
      "Epoch 27/40\n",
      "69/69 [==============================] - 1s 11ms/step - loss: 0.0032 - val_loss: 0.0464\n",
      "Epoch 28/40\n",
      "69/69 [==============================] - 1s 9ms/step - loss: 0.0032 - val_loss: 0.0478\n",
      "Epoch 29/40\n",
      "69/69 [==============================] - 1s 10ms/step - loss: 0.0032 - val_loss: 0.0475\n",
      "Epoch 30/40\n",
      "69/69 [==============================] - 1s 11ms/step - loss: 0.0032 - val_loss: 0.0474\n",
      "Epoch 31/40\n",
      "69/69 [==============================] - 1s 12ms/step - loss: 0.0032 - val_loss: 0.0491\n",
      "Epoch 32/40\n",
      "69/69 [==============================] - 1s 12ms/step - loss: 0.0032 - val_loss: 0.0477\n",
      "Epoch 33/40\n",
      "69/69 [==============================] - 1s 10ms/step - loss: 0.0032 - val_loss: 0.0474\n",
      "Epoch 34/40\n",
      "69/69 [==============================] - 1s 11ms/step - loss: 0.0032 - val_loss: 0.0489\n",
      "Epoch 35/40\n",
      "69/69 [==============================] - 1s 12ms/step - loss: 0.0032 - val_loss: 0.0464\n",
      "Epoch 36/40\n",
      "69/69 [==============================] - 1s 12ms/step - loss: 0.0032 - val_loss: 0.0460\n",
      "Epoch 37/40\n",
      "69/69 [==============================] - 1s 13ms/step - loss: 0.0032 - val_loss: 0.0477\n",
      "Epoch 38/40\n",
      "69/69 [==============================] - 1s 11ms/step - loss: 0.0032 - val_loss: 0.0464\n",
      "Epoch 39/40\n",
      "69/69 [==============================] - 1s 12ms/step - loss: 0.0032 - val_loss: 0.0464\n",
      "Epoch 40/40\n",
      "69/69 [==============================] - 1s 13ms/step - loss: 0.0032 - val_loss: 0.0474\n"
     ]
    }
   ],
   "source": [
    "NUM_EPOCHS = 40\n",
    "BATCH_SIZE = 10\n",
    "input_dim = b1_data_train.shape[1]\n",
    "function = 'relu'\n",
    "\n",
    "# LSTM Autoencoder\n",
    "input_layer = Input(shape=(seq_length, input_dim))\n",
    "encoder = LSTM(16, activation=function, return_sequences=True)(input_layer)\n",
    "encoder = BatchNormalization()(encoder)\n",
    "encoder = LSTM(4, activation=function, return_sequences=True)(encoder)\n",
    "encoder = LSTM(2, activation=function, return_sequences=False)(encoder)\n",
    "encoder = BatchNormalization()(encoder)\n",
    "decoder = RepeatVector(seq_length)(encoder)\n",
    "decoder = BatchNormalization()(decoder)\n",
    "decoder = LSTM(4, activation=function, return_sequences=True)(decoder)\n",
    "decoder = BatchNormalization()(decoder)\n",
    "decoder = LSTM(16, activation=function, return_sequences=True)(decoder)\n",
    "output_layer = TimeDistributed(Dense(input_dim))(decoder)\n",
    "\n",
    "model = Model(inputs=input_layer, outputs=output_layer)\n",
    "model.compile(loss='mse', optimizer='adam')\n",
    "\n",
    "history = model.fit(data_test_b4, data_test_b4, validation_data=(data_test_b2, data_test_b2), epochs=NUM_EPOCHS, batch_size=BATCH_SIZE, verbose=1)"
   ]
  },
  {
   "cell_type": "code",
   "execution_count": 7,
   "metadata": {},
   "outputs": [
    {
     "data": {
      "image/png": "[encoded data removed]",
      "text/plain": [
       "<Figure size 640x480 with 1 Axes>"
      ]
     },
     "metadata": {},
     "output_type": "display_data"
    }
   ],
   "source": [
    "plt.plot(history.history['loss'],\n",
    "         'b',\n",
    "         label='Training loss')\n",
    "plt.plot(history.history['val_loss'],\n",
    "         'r',\n",
    "         label='Validation loss')\n",
    "plt.legend(loc='upper right')\n",
    "plt.xlabel('Epochs')\n",
    "plt.ylabel('Loss, [mse]')\n",
    "plt.show()"
   ]
  },
  {
   "cell_type": "code",
   "execution_count": 8,
   "metadata": {},
   "outputs": [],
   "source": [
    "model.save('../models/lstm_autoencoder.h5')"
   ]
  }
 ],
 "metadata": {
  "kernelspec": {
   "display_name": "Python 3",
   "language": "python",
   "name": "python3"
  },
  "language_info": {
   "codemirror_mode": {
    "name": "ipython",
    "version": 3
   },
   "file_extension": ".py",
   "mimetype": "text/x-python",
   "name": "python",
   "nbconvert_exporter": "python",
   "pygments_lexer": "ipython3",
   "version": "3.10.10"
  }
 },
 "nbformat": 4,
 "nbformat_minor": 2
}
